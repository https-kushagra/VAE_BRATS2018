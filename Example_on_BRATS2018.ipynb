{
  "nbformat": 4,
  "nbformat_minor": 0,
  "metadata": {
    "colab": {
      "name": "Example on BRATS2018",
      "version": "0.3.2",
      "provenance": [],
      "collapsed_sections": [],
      "include_colab_link": true
    },
    "kernelspec": {
      "name": "python3",
      "display_name": "Python 3"
    },
    "accelerator": "GPU"
  },
  "cells": [
    {
      "cell_type": "markdown",
      "metadata": {
        "id": "view-in-github",
        "colab_type": "text"
      },
      "source": [
        "<a href=\"https://colab.research.google.com/github/IAmSuyogJadhav/3d-mri-brain-tumor-segmentation-using-autoencoder-regularization/blob/master/Example_on_BRATS2018.ipynb\" target=\"_parent\"><img src=\"https://colab.research.google.com/assets/colab-badge.svg\" alt=\"Open In Colab\"/></a>"
      ]
    },
    {
      "cell_type": "markdown",
      "metadata": {
        "id": "0Uld1IQgwKIL",
        "colab_type": "text"
      },
      "source": [
        "Note\n",
        "- [Colab Only] Means the associated cell is required only if you are running the model on Google Colaboratory"
      ]
    },
    {
      "cell_type": "markdown",
      "metadata": {
        "id": "m-oHUemNtm59",
        "colab_type": "text"
      },
      "source": [
        "## Mount Drive [Colab Only]\n",
        "Mount the google drive to access the dataset stored on drive."
      ]
    },
    {
      "cell_type": "code",
      "metadata": {
        "id": "zYkOcDYNtf-e",
        "colab_type": "code",
        "outputId": "607d7128-cc53-4b85-fa43-bb2ca4727b03",
        "colab": {
          "base_uri": "https://localhost:8080/",
          "height": 121
        }
      },
      "source": [
        "from google.colab import drive\n",
        "drive.mount('/gdrive')"
      ],
      "execution_count": 2,
      "outputs": [
        {
          "output_type": "stream",
          "text": [
            "Go to this URL in a browser: https://accounts.google.com/o/oauth2/auth?client_id=947318989803-6bn6qk8qdgf4n4g3pfee6491hc0brc4i.apps.googleusercontent.com&redirect_uri=urn%3Aietf%3Awg%3Aoauth%3A2.0%3Aoob&scope=email%20https%3A%2F%2Fwww.googleapis.com%2Fauth%2Fdocs.test%20https%3A%2F%2Fwww.googleapis.com%2Fauth%2Fdrive%20https%3A%2F%2Fwww.googleapis.com%2Fauth%2Fdrive.photos.readonly%20https%3A%2F%2Fwww.googleapis.com%2Fauth%2Fpeopleapi.readonly&response_type=code\n",
            "\n",
            "Enter your authorization code:\n",
            "··········\n",
            "Mounted at /gdrive\n"
          ],
          "name": "stdout"
        }
      ]
    },
    {
      "cell_type": "markdown",
      "metadata": {
        "id": "Psq2s15_wlfJ",
        "colab_type": "text"
      },
      "source": [
        "## Extract the Dataset"
      ]
    },
    {
      "cell_type": "code",
      "metadata": {
        "id": "DuUurNXQtmXT",
        "colab_type": "code",
        "colab": {}
      },
      "source": [
        "import zipfile  # For faster extraction\n",
        "dataset_path = \"/gdrive/My Drive/MICCAI_BraTS_2018_Data_Training.zip\"  # Replace with your dataset path\n",
        "zfile = zipfile.ZipFile(dataset_path)\n",
        "zfile.extractall()"
      ],
      "execution_count": 0,
      "outputs": []
    },
    {
      "cell_type": "markdown",
      "metadata": {
        "id": "4NA9UG5zw938",
        "colab_type": "text"
      },
      "source": [
        "## Get required packages\n",
        "- **SimpleITK**: For loading the dataset\n",
        "- **[model.py](https://github.com/IAmSuyogJadhav/3d-mri-brain-tumor-segmentation-using-autoencoder-regularization/)**: The model from BRATS2018 winning paper"
      ]
    },
    {
      "cell_type": "code",
      "metadata": {
        "id": "SqMFpmc6uCjQ",
        "colab_type": "code",
        "outputId": "3cc182ee-0bd0-49f5-c381-f2dfa8cebd6a",
        "colab": {
          "base_uri": "https://localhost:8080/",
          "height": 390
        }
      },
      "source": [
        "!pip install simpleitk\n",
        "!wget https://github.com/IAmSuyogJadhav/3d-mri-brain-tumor-segmentation-using-autoencoder-regularization/raw/master/model.py"
      ],
      "execution_count": 4,
      "outputs": [
        {
          "output_type": "stream",
          "text": [
            "Collecting simpleitk\n",
            "\u001b[?25l  Downloading https://files.pythonhosted.org/packages/45/ee/8ddd251cf447e1fc131622e925d538c2542780195ae75e26c122587630d1/SimpleITK-1.2.0-cp36-cp36m-manylinux1_x86_64.whl (42.5MB)\n",
            "\u001b[K     |████████████████████████████████| 42.5MB 33.9MB/s \n",
            "\u001b[?25hInstalling collected packages: simpleitk\n",
            "Successfully installed simpleitk-1.2.0\n",
            "--2019-07-08 09:15:00--  https://github.com/IAmSuyogJadhav/3d-mri-brain-tumor-segmentation-using-autoencoder-regularization/raw/master/model.py\n",
            "Resolving github.com (github.com)... 140.82.113.3\n",
            "Connecting to github.com (github.com)|140.82.113.3|:443... connected.\n",
            "HTTP request sent, awaiting response... 302 Found\n",
            "Location: https://raw.githubusercontent.com/IAmSuyogJadhav/3d-mri-brain-tumor-segmentation-using-autoencoder-regularization/master/model.py [following]\n",
            "--2019-07-08 09:15:01--  https://raw.githubusercontent.com/IAmSuyogJadhav/3d-mri-brain-tumor-segmentation-using-autoencoder-regularization/master/model.py\n",
            "Resolving raw.githubusercontent.com (raw.githubusercontent.com)... 151.101.0.133, 151.101.64.133, 151.101.128.133, ...\n",
            "Connecting to raw.githubusercontent.com (raw.githubusercontent.com)|151.101.0.133|:443... connected.\n",
            "HTTP request sent, awaiting response... 200 OK\n",
            "Length: 15603 (15K) [text/plain]\n",
            "Saving to: ‘model.py’\n",
            "\n",
            "model.py            100%[===================>]  15.24K  --.-KB/s    in 0.01s   \n",
            "\n",
            "2019-07-08 09:15:01 (1.24 MB/s) - ‘model.py’ saved [15603/15603]\n",
            "\n"
          ],
          "name": "stdout"
        }
      ]
    },
    {
      "cell_type": "markdown",
      "metadata": {
        "id": "09ARH9U4D2Wy",
        "colab_type": "text"
      },
      "source": [
        "## Imports and helper functions"
      ]
    },
    {
      "cell_type": "code",
      "metadata": {
        "id": "4uAsBShgB3v_",
        "colab_type": "code",
        "outputId": "f1b7fe72-b0d7-4f63-ba15-44c16775e725",
        "colab": {
          "base_uri": "https://localhost:8080/",
          "height": 34
        }
      },
      "source": [
        "import SimpleITK as sitk  # For loading the dataset\n",
        "import numpy as np  # For data manipulation\n",
        "from model import build_model  # For creating the model\n",
        "import glob  # For populating the list of files\n",
        "from scipy.ndimage import zoom  # For resizing\n",
        "import re  # For parsing the filenames (to know their modality)"
      ],
      "execution_count": 1,
      "outputs": [
        {
          "output_type": "stream",
          "text": [
            "Using TensorFlow backend.\n"
          ],
          "name": "stderr"
        }
      ]
    },
    {
      "cell_type": "code",
      "metadata": {
        "id": "nNNtloQ9B3sA",
        "colab_type": "code",
        "colab": {}
      },
      "source": [
        "def read_img(img_path):\n",
        "    \"\"\"\n",
        "    Reads a .nii.gz image and returns as a numpy array.\n",
        "    \"\"\"\n",
        "    return sitk.GetArrayFromImage(sitk.ReadImage(img_path))"
      ],
      "execution_count": 0,
      "outputs": []
    },
    {
      "cell_type": "code",
      "metadata": {
        "id": "fEIRGXpdfssT",
        "colab_type": "code",
        "colab": {}
      },
      "source": [
        "def resize(img, shape, mode='constant', orig_shape=(155, 240, 240)):\n",
        "    \"\"\"\n",
        "    Wrapper for scipy.ndimage.zoom suited for MRI images.\n",
        "    \"\"\"\n",
        "    assert len(shape) == 3, \"Can not have more than 3 dimensions\"\n",
        "    factors = (\n",
        "        shape[0]/orig_shape[0],\n",
        "        shape[1]/orig_shape[1], \n",
        "        shape[2]/orig_shape[2]\n",
        "    )\n",
        "    \n",
        "    # Resize to the given shape\n",
        "    return zoom(img, factors, mode=mode)\n",
        "\n",
        "\n",
        "def preprocess(img, out_shape=None):\n",
        "    \"\"\"\n",
        "    Preprocess the image.\n",
        "    Just an example, you can add more preprocessing steps if you wish to.\n",
        "    \"\"\"\n",
        "    if out_shape is not None:\n",
        "        img = resize(img, out_shape, mode='constant')\n",
        "    \n",
        "    # Normalize the image\n",
        "    mean = img.mean()\n",
        "    std = img.std()\n",
        "    return (img - mean) / std\n",
        "\n",
        "\n",
        "def preprocess_label(img, out_shape=None, mode='nearest'):\n",
        "    \"\"\"\n",
        "    Separates out the 3 labels from the segmentation provided, namely:\n",
        "    GD-enhancing tumor (ET — label 4), the peritumoral edema (ED — label 2))\n",
        "    and the necrotic and non-enhancing tumor core (NCR/NET — label 1)\n",
        "    \"\"\"\n",
        "    ncr = img == 1  # Necrotic and Non-Enhancing Tumor (NCR/NET)\n",
        "    ed = img == 2  # Peritumoral Edema (ED)\n",
        "    et = img == 4  # GD-enhancing Tumor (ET)\n",
        "    \n",
        "    if out_shape is not None:\n",
        "        ncr = resize(ncr, out_shape, mode=mode)\n",
        "        ed = resize(ed, out_shape, mode=mode)\n",
        "        et = resize(et, out_shape, mode=mode)\n",
        "\n",
        "    return np.array([ncr, ed, et], dtype=np.uint8)\n",
        "    "
      ],
      "execution_count": 0,
      "outputs": []
    },
    {
      "cell_type": "markdown",
      "metadata": {
        "id": "piRsc9rYYRzl",
        "colab_type": "text"
      },
      "source": [
        "## Loading Data\n"
      ]
    },
    {
      "cell_type": "code",
      "metadata": {
        "id": "7adjWzdCuECK",
        "colab_type": "code",
        "colab": {}
      },
      "source": [
        "# Get a list of files for all modalities individually\n",
        "t1 = glob.glob('*GG/*/*t1.nii.gz')\n",
        "t2 = glob.glob('*GG/*/*t2.nii.gz')\n",
        "flair = glob.glob('*GG/*/*flair.nii.gz')\n",
        "t1ce = glob.glob('*GG/*/*t1ce.nii.gz')\n",
        "seg = glob.glob('*GG/*/*seg.nii.gz')  # Ground Truth"
      ],
      "execution_count": 0,
      "outputs": []
    },
    {
      "cell_type": "markdown",
      "metadata": {
        "id": "x_WhT40dzlHO",
        "colab_type": "text"
      },
      "source": [
        "Parse all the filenames and create a dictionary for each patient with structure:\n",
        "\n",
        "{<br />\n",
        "    &nbsp;&nbsp;&nbsp;&nbsp;'t1': _<path to t1 MRI file&gt;_,<br />\n",
        "    &nbsp;&nbsp;&nbsp;&nbsp;'t2': _<path to t2 MRI&gt;_,<br />\n",
        "    &nbsp;&nbsp;&nbsp;&nbsp;'flair': _<path to FLAIR MRI file&gt;_,<br />\n",
        "    &nbsp;&nbsp;&nbsp;&nbsp;'t1ce': _<path to t1ce MRI file&gt;_,<br />\n",
        "    &nbsp;&nbsp;&nbsp;&nbsp;'seg': _<path to Ground Truth file&gt;_,<br />\n",
        "}<br />"
      ]
    },
    {
      "cell_type": "code",
      "metadata": {
        "id": "4dssK9Nmwojp",
        "colab_type": "code",
        "colab": {}
      },
      "source": [
        "pat = re.compile('.*_(\\w*)\\.nii\\.gz')\n",
        "\n",
        "data_paths = [{\n",
        "    pat.findall(item)[0]:item\n",
        "    for item in items\n",
        "}\n",
        "for items in list(zip(t1, t2, t1ce, flair, seg))]"
      ],
      "execution_count": 0,
      "outputs": []
    },
    {
      "cell_type": "markdown",
      "metadata": {
        "id": "wHqqrbnH0n2E",
        "colab_type": "text"
      },
      "source": [
        "## Load the data in a Numpy array\n",
        "Creating an empty Numpy array beforehand and then filling up the data helps you gauge beforehand if the data fits in your memory.\n",
        "\n"
      ]
    },
    {
      "cell_type": "markdown",
      "metadata": {
        "id": "tBgbr-R-7Zat",
        "colab_type": "text"
      },
      "source": [
        "_Loading only the first 4 images here, to save time._"
      ]
    },
    {
      "cell_type": "code",
      "metadata": {
        "id": "nvbbddauz8ij",
        "colab_type": "code",
        "colab": {}
      },
      "source": [
        "input_shape = (4, 80, 96, 64)\n",
        "output_channels = 3\n",
        "data = np.empty((len(data_paths[:4]),) + input_shape, dtype=np.float32)\n",
        "labels = np.empty((len(data_paths[:4]), output_channels) + input_shape[1:], dtype=np.uint8)"
      ],
      "execution_count": 0,
      "outputs": []
    },
    {
      "cell_type": "code",
      "metadata": {
        "id": "G4u_yrMf30k4",
        "colab_type": "code",
        "outputId": "81c1cb4d-8339-41bb-971c-a386bf3c7f69",
        "colab": {
          "base_uri": "https://localhost:8080/",
          "height": 34
        }
      },
      "source": [
        "import math\n",
        "\n",
        "# Parameters for the progress bar\n",
        "total = len(data_paths[:4])\n",
        "step = 25 / total\n",
        "\n",
        "for i, imgs in enumerate(data_paths[:4]):\n",
        "    try:\n",
        "        data[i] = np.array([preprocess(read_img(imgs[m]), input_shape[1:]) for m in ['t1', 't2', 't1ce', 'flair']], dtype=np.float32)\n",
        "        labels[i] = preprocess_label(read_img(imgs['seg']), input_shape[1:])[None, ...]\n",
        "        \n",
        "        # Print the progress bar\n",
        "        print('\\r' + f'Progress: '\n",
        "            f\"[{'=' * int((i+1) * step) + ' ' * (24 - int((i+1) * step))}]\"\n",
        "            f\"({math.ceil((i+1) * 100 / (total))} %)\",\n",
        "            end='')\n",
        "    except Exception as e:\n",
        "        print(f'Something went wrong with {imgs[\"t1\"]}, skipping...\\n Exception:\\n{str(e)}')\n",
        "        continue"
      ],
      "execution_count": 67,
      "outputs": [
        {
          "output_type": "stream",
          "text": [
            "Progress: [=========================](100 %)"
          ],
          "name": "stdout"
        }
      ]
    },
    {
      "cell_type": "markdown",
      "metadata": {
        "id": "Ojc7YgwC305t",
        "colab_type": "text"
      },
      "source": [
        "## Model"
      ]
    },
    {
      "cell_type": "markdown",
      "metadata": {
        "id": "uR_SDmgn4Lrd",
        "colab_type": "text"
      },
      "source": [
        "build the model"
      ]
    },
    {
      "cell_type": "code",
      "metadata": {
        "id": "vI53S6yZJN2V",
        "colab_type": "code",
        "colab": {}
      },
      "source": [
        "model = build_model(input_shape=input_shape, output_channels=3)"
      ],
      "execution_count": 0,
      "outputs": []
    },
    {
      "cell_type": "markdown",
      "metadata": {
        "id": "s1u107O74NOP",
        "colab_type": "text"
      },
      "source": [
        "Train the model"
      ]
    },
    {
      "cell_type": "code",
      "metadata": {
        "id": "b0y7NfU4JBgi",
        "colab_type": "code",
        "outputId": "9f506516-2c7b-460e-aa5a-7abdab4eceb1",
        "colab": {
          "base_uri": "https://localhost:8080/",
          "height": 87
        }
      },
      "source": [
        "model.fit(data, labels, batch_size=1, epochs=1)"
      ],
      "execution_count": 100,
      "outputs": [
        {
          "output_type": "stream",
          "text": [
            "Epoch 1/1\n",
            "4/4 [==============================] - 29s 7s/step - loss: 0.3766 - acc: 0.1188\n"
          ],
          "name": "stdout"
        },
        {
          "output_type": "execute_result",
          "data": {
            "text/plain": [
              "<keras.callbacks.History at 0x7f227c43bc88>"
            ]
          },
          "metadata": {
            "tags": []
          },
          "execution_count": 100
        }
      ]
    },
    {
      "cell_type": "markdown",
      "metadata": {
        "id": "VlrqEF7m7ist",
        "colab_type": "text"
      },
      "source": [
        "That's it!"
      ]
    },
    {
      "cell_type": "markdown",
      "metadata": {
        "id": "ZKerVpLQTRck",
        "colab_type": "text"
      },
      "source": [
        "## Closing Regards"
      ]
    },
    {
      "cell_type": "markdown",
      "metadata": {
        "id": "bkSxJbRx4SsO",
        "colab_type": "text"
      },
      "source": [
        "If you are resizing the segmentation mask, the resized segmentation mask retains the overall shape, but loses a lot of pixels and becomes somewhat 'grainy'. See the illustration below."
      ]
    },
    {
      "cell_type": "markdown",
      "metadata": {
        "id": "eAau6Z7hznFC",
        "colab_type": "text"
      },
      "source": [
        "1. Original segmentation mask:"
      ]
    },
    {
      "cell_type": "code",
      "metadata": {
        "id": "CXRW65_hkL9n",
        "colab_type": "code",
        "colab": {
          "base_uri": "https://localhost:8080/",
          "height": 336
        },
        "outputId": "4c42e648-b9fe-4176-a324-b15ca9be7db5"
      },
      "source": [
        "import matplotlib.pyplot as plt\n",
        "img = (read_img(seg[0])[100] == 2).astype(np.uint8)\n",
        "print(img.shape)\n",
        "print(np.unique(img))\n",
        "print(img.sum())\n",
        "plt.imshow(img, cmap='Greys_r')"
      ],
      "execution_count": 109,
      "outputs": [
        {
          "output_type": "stream",
          "text": [
            "(240, 240)\n",
            "[0 1]\n",
            "2111\n"
          ],
          "name": "stdout"
        },
        {
          "output_type": "execute_result",
          "data": {
            "text/plain": [
              "<matplotlib.image.AxesImage at 0x7f2275c25be0>"
            ]
          },
          "metadata": {
            "tags": []
          },
          "execution_count": 109
        },
        {
          "output_type": "display_data",
          "data": {
            "image/png": "[encoded data removed]",
            "text/plain": [
              "<Figure size 432x288 with 1 Axes>"
            ]
          },
          "metadata": {
            "tags": []
          }
        }
      ]
    },
    {
      "cell_type": "markdown",
      "metadata": {
        "id": "soDTIJFn5CE9",
        "colab_type": "text"
      },
      "source": [
        "After resizing to (80, 96, 64)"
      ]
    },
    {
      "cell_type": "code",
      "metadata": {
        "id": "-kmgpXjsAMzj",
        "colab_type": "code",
        "colab": {
          "base_uri": "https://localhost:8080/",
          "height": 336
        },
        "outputId": "7eac8776-abc2-4334-a5b2-ffba151be588"
      },
      "source": [
        "img = preprocess_label(read_img(seg[0]), out_shape=(80, 96, 64), mode='nearest')[1][50]\n",
        "print(img.shape)\n",
        "print(np.unique(img))\n",
        "print(img.sum())\n",
        "plt.imshow(img, cmap='Greys_r')"
      ],
      "execution_count": 105,
      "outputs": [
        {
          "output_type": "stream",
          "text": [
            "(96, 64)\n",
            "[0 1]\n",
            "116\n"
          ],
          "name": "stdout"
        },
        {
          "output_type": "execute_result",
          "data": {
            "text/plain": [
              "<matplotlib.image.AxesImage at 0x7f2275d5bc50>"
            ]
          },
          "metadata": {
            "tags": []
          },
          "execution_count": 105
        },
        {
          "output_type": "display_data",
          "data": {
            "image/png": "[encoded data removed]",
            "text/plain": [
              "<Figure size 432x288 with 1 Axes>"
            ]
          },
          "metadata": {
            "tags": []
          }
        }
      ]
    },
    {
      "cell_type": "markdown",
      "metadata": {
        "id": "FiGSgdqA5LGd",
        "colab_type": "text"
      },
      "source": [
        "One can clearly notice that there are now a lot of black pixels in the region where there should have been only white pixels. This can potentially hurt our model. So, it is best to not resize the image too much. But, due to computational constraints and the model requirements, it is unavoidable. \n",
        "\n",
        "However, given below are a few things one could try to reduce the downsampling noise as much as possible."
      ]
    },
    {
      "cell_type": "code",
      "metadata": {
        "id": "01FtsxQi6dts",
        "colab_type": "code",
        "colab": {}
      },
      "source": [
        "import cv2"
      ],
      "execution_count": 0,
      "outputs": []
    },
    {
      "cell_type": "markdown",
      "metadata": {
        "id": "vbflvVYqz2yu",
        "colab_type": "text"
      },
      "source": [
        "- Original Image > preprocess_label > Morphological Closing"
      ]
    },
    {
      "cell_type": "code",
      "metadata": {
        "id": "vFn6tiXPsUdl",
        "colab_type": "code",
        "colab": {
          "base_uri": "https://localhost:8080/",
          "height": 319
        },
        "outputId": "b7474d73-2f00-4c25-8968-4f740e5a2510"
      },
      "source": [
        "kernel = np.ones((3, 3))\n",
        "img_closed = cv2.morphologyEx(img, cv2.MORPH_CLOSE, kernel, iterations=3)\n",
        "print(np.unique(img_closed))\n",
        "print(img_closed.sum())\n",
        "plt.imshow(img_closed, cmap='Greys_r')"
      ],
      "execution_count": 97,
      "outputs": [
        {
          "output_type": "stream",
          "text": [
            "[0 1]\n",
            "491\n"
          ],
          "name": "stdout"
        },
        {
          "output_type": "execute_result",
          "data": {
            "text/plain": [
              "<matplotlib.image.AxesImage at 0x7f227dc26160>"
            ]
          },
          "metadata": {
            "tags": []
          },
          "execution_count": 97
        },
        {
          "output_type": "display_data",
          "data": {
            "image/png": "[encoded data removed]",
            "text/plain": [
              "<Figure size 432x288 with 1 Axes>"
            ]
          },
          "metadata": {
            "tags": []
          }
        }
      ]
    },
    {
      "cell_type": "markdown",
      "metadata": {
        "id": "17CKK5zQz7hs",
        "colab_type": "text"
      },
      "source": [
        "- Original Image > preprocess_label > Morphological Dilation"
      ]
    },
    {
      "cell_type": "code",
      "metadata": {
        "id": "bxhKa3kKtCLZ",
        "colab_type": "code",
        "colab": {
          "base_uri": "https://localhost:8080/",
          "height": 319
        },
        "outputId": "7ee710b6-c5ed-4e9c-e2f0-935357e1bf0c"
      },
      "source": [
        "kernel = np.ones((3, 3))\n",
        "img_dilated = cv2.dilate(img, kernel, iterations=1)\n",
        "print(np.unique(img_dilated))\n",
        "print(img_dilated.sum())\n",
        "plt.imshow(img_dilated, cmap='Greys_r')"
      ],
      "execution_count": 98,
      "outputs": [
        {
          "output_type": "stream",
          "text": [
            "[0 1]\n",
            "660\n"
          ],
          "name": "stdout"
        },
        {
          "output_type": "execute_result",
          "data": {
            "text/plain": [
              "<matplotlib.image.AxesImage at 0x7f227db77d30>"
            ]
          },
          "metadata": {
            "tags": []
          },
          "execution_count": 98
        },
        {
          "output_type": "display_data",
          "data": {
            "image/png": "[encoded data removed]",
            "text/plain": [
              "<Figure size 432x288 with 1 Axes>"
            ]
          },
          "metadata": {
            "tags": []
          }
        }
      ]
    },
    {
      "cell_type": "markdown",
      "metadata": {
        "id": "gG3vfTyS0BVe",
        "colab_type": "text"
      },
      "source": [
        "You could try these things to get even better results."
      ]
    },
    {
      "cell_type": "markdown",
      "metadata": {
        "id": "CX6Cj1VO6vrZ",
        "colab_type": "text"
      },
      "source": [
        "## Feedback"
      ]
    },
    {
      "cell_type": "markdown",
      "metadata": {
        "id": "ZPt_15Ps6vO1",
        "colab_type": "text"
      },
      "source": [
        "If you have any feedback, queries, bug reports to send, please feel free to [raise an issue](https://github.com/IAmSuyogJadhav/3d-mri-brain-tumor-segmentation-using-autoencoder-regularization/issues/new) on github. It would be really helpful!"
      ]
    }
  ]
}